{
 "cells": [
  {
   "cell_type": "code",
   "execution_count": 10,
   "id": "bb2d4d9c-4e9e-4993-bcc2-289e87e71f09",
   "metadata": {},
   "outputs": [],
   "source": [
    "import pandas as pd\n",
    "import numpy as np\n",
    "import joblib\n",
    "import matplotlib.pyplot as plt\n",
    "from imblearn.over_sampling import SMOTE\n",
    "from sklearn.linear_model import LogisticRegression\n",
    "from sklearn.ensemble import RandomForestClassifier\n",
    "from sklearn.model_selection import train_test_split, GridSearchCV\n",
    "from sklearn.metrics import classification_report, plot_roc_curve, plot_confusion_matrix, accuracy_score"
   ]
  },
  {
   "cell_type": "code",
   "execution_count": 30,
   "id": "b60092c6-5af5-4623-83aa-b54bca325fc4",
   "metadata": {},
   "outputs": [
    {
     "data": {
      "text/html": [
       "<div>\n",
       "<style scoped>\n",
       "    .dataframe tbody tr th:only-of-type {\n",
       "        vertical-align: middle;\n",
       "    }\n",
       "\n",
       "    .dataframe tbody tr th {\n",
       "        vertical-align: top;\n",
       "    }\n",
       "\n",
       "    .dataframe thead th {\n",
       "        text-align: right;\n",
       "    }\n",
       "</style>\n",
       "<table border=\"1\" class=\"dataframe\">\n",
       "  <thead>\n",
       "    <tr style=\"text-align: right;\">\n",
       "      <th></th>\n",
       "      <th>Date</th>\n",
       "      <th>Open</th>\n",
       "      <th>High</th>\n",
       "      <th>Low</th>\n",
       "      <th>Close</th>\n",
       "      <th>Volume</th>\n",
       "      <th>Dividends</th>\n",
       "      <th>Stock Splits</th>\n",
       "      <th>Ticker</th>\n",
       "      <th>SMA</th>\n",
       "      <th>...</th>\n",
       "      <th>ADMI</th>\n",
       "      <th>CCI</th>\n",
       "      <th>ROC</th>\n",
       "      <th>RSI</th>\n",
       "      <th>Williams</th>\n",
       "      <th>STOCHFK</th>\n",
       "      <th>STOCHFD</th>\n",
       "      <th>ChaikinAD</th>\n",
       "      <th>Direction</th>\n",
       "      <th>30DayReturn</th>\n",
       "    </tr>\n",
       "  </thead>\n",
       "  <tbody>\n",
       "    <tr>\n",
       "      <th>0</th>\n",
       "      <td>2020-05-07</td>\n",
       "      <td>78.113312</td>\n",
       "      <td>78.668648</td>\n",
       "      <td>76.893570</td>\n",
       "      <td>77.845566</td>\n",
       "      <td>1190600.0</td>\n",
       "      <td>0.0</td>\n",
       "      <td>0.0</td>\n",
       "      <td>A</td>\n",
       "      <td>74.695473</td>\n",
       "      <td>...</td>\n",
       "      <td>12.807454</td>\n",
       "      <td>98.583746</td>\n",
       "      <td>14.057652</td>\n",
       "      <td>51.751234</td>\n",
       "      <td>-15.151471</td>\n",
       "      <td>84.848529</td>\n",
       "      <td>66.995833</td>\n",
       "      <td>9.913589e+06</td>\n",
       "      <td>Up</td>\n",
       "      <td>0.130318</td>\n",
       "    </tr>\n",
       "    <tr>\n",
       "      <th>1</th>\n",
       "      <td>2020-05-08</td>\n",
       "      <td>79.005804</td>\n",
       "      <td>79.660305</td>\n",
       "      <td>78.529810</td>\n",
       "      <td>79.045471</td>\n",
       "      <td>2255000.0</td>\n",
       "      <td>0.0</td>\n",
       "      <td>0.0</td>\n",
       "      <td>A</td>\n",
       "      <td>74.899661</td>\n",
       "      <td>...</td>\n",
       "      <td>12.695859</td>\n",
       "      <td>129.227668</td>\n",
       "      <td>8.400503</td>\n",
       "      <td>52.778156</td>\n",
       "      <td>-5.241614</td>\n",
       "      <td>94.758386</td>\n",
       "      <td>68.472415</td>\n",
       "      <td>9.715769e+06</td>\n",
       "      <td>Up</td>\n",
       "      <td>0.110651</td>\n",
       "    </tr>\n",
       "    <tr>\n",
       "      <th>2</th>\n",
       "      <td>2020-05-11</td>\n",
       "      <td>78.936385</td>\n",
       "      <td>81.306459</td>\n",
       "      <td>78.837220</td>\n",
       "      <td>80.592461</td>\n",
       "      <td>1691600.0</td>\n",
       "      <td>0.0</td>\n",
       "      <td>0.0</td>\n",
       "      <td>A</td>\n",
       "      <td>75.248065</td>\n",
       "      <td>...</td>\n",
       "      <td>12.706210</td>\n",
       "      <td>155.587731</td>\n",
       "      <td>14.901721</td>\n",
       "      <td>54.081628</td>\n",
       "      <td>-5.198569</td>\n",
       "      <td>94.801431</td>\n",
       "      <td>70.325849</td>\n",
       "      <td>1.042909e+07</td>\n",
       "      <td>Up</td>\n",
       "      <td>0.098560</td>\n",
       "    </tr>\n",
       "    <tr>\n",
       "      <th>3</th>\n",
       "      <td>2020-05-12</td>\n",
       "      <td>80.899876</td>\n",
       "      <td>81.613875</td>\n",
       "      <td>79.114880</td>\n",
       "      <td>79.184296</td>\n",
       "      <td>2278900.0</td>\n",
       "      <td>0.0</td>\n",
       "      <td>0.0</td>\n",
       "      <td>A</td>\n",
       "      <td>75.485403</td>\n",
       "      <td>...</td>\n",
       "      <td>12.737996</td>\n",
       "      <td>137.848397</td>\n",
       "      <td>9.880268</td>\n",
       "      <td>52.711524</td>\n",
       "      <td>-17.302305</td>\n",
       "      <td>82.697695</td>\n",
       "      <td>71.515981</td>\n",
       "      <td>8.276797e+06</td>\n",
       "      <td>Up</td>\n",
       "      <td>0.084033</td>\n",
       "    </tr>\n",
       "    <tr>\n",
       "      <th>4</th>\n",
       "      <td>2020-05-13</td>\n",
       "      <td>79.709882</td>\n",
       "      <td>81.246963</td>\n",
       "      <td>78.371138</td>\n",
       "      <td>79.491722</td>\n",
       "      <td>2664900.0</td>\n",
       "      <td>0.0</td>\n",
       "      <td>0.0</td>\n",
       "      <td>A</td>\n",
       "      <td>75.767697</td>\n",
       "      <td>...</td>\n",
       "      <td>12.698816</td>\n",
       "      <td>122.341349</td>\n",
       "      <td>11.924055</td>\n",
       "      <td>52.980548</td>\n",
       "      <td>-15.112960</td>\n",
       "      <td>84.887040</td>\n",
       "      <td>72.905882</td>\n",
       "      <td>7.688689e+06</td>\n",
       "      <td>Up</td>\n",
       "      <td>0.088573</td>\n",
       "    </tr>\n",
       "  </tbody>\n",
       "</table>\n",
       "<p>5 rows × 23 columns</p>\n",
       "</div>"
      ],
      "text/plain": [
       "         Date       Open       High        Low      Close     Volume  \\\n",
       "0  2020-05-07  78.113312  78.668648  76.893570  77.845566  1190600.0   \n",
       "1  2020-05-08  79.005804  79.660305  78.529810  79.045471  2255000.0   \n",
       "2  2020-05-11  78.936385  81.306459  78.837220  80.592461  1691600.0   \n",
       "3  2020-05-12  80.899876  81.613875  79.114880  79.184296  2278900.0   \n",
       "4  2020-05-13  79.709882  81.246963  78.371138  79.491722  2664900.0   \n",
       "\n",
       "   Dividends  Stock Splits Ticker        SMA  ...       ADMI         CCI  \\\n",
       "0        0.0           0.0      A  74.695473  ...  12.807454   98.583746   \n",
       "1        0.0           0.0      A  74.899661  ...  12.695859  129.227668   \n",
       "2        0.0           0.0      A  75.248065  ...  12.706210  155.587731   \n",
       "3        0.0           0.0      A  75.485403  ...  12.737996  137.848397   \n",
       "4        0.0           0.0      A  75.767697  ...  12.698816  122.341349   \n",
       "\n",
       "         ROC        RSI   Williams    STOCHFK    STOCHFD     ChaikinAD  \\\n",
       "0  14.057652  51.751234 -15.151471  84.848529  66.995833  9.913589e+06   \n",
       "1   8.400503  52.778156  -5.241614  94.758386  68.472415  9.715769e+06   \n",
       "2  14.901721  54.081628  -5.198569  94.801431  70.325849  1.042909e+07   \n",
       "3   9.880268  52.711524 -17.302305  82.697695  71.515981  8.276797e+06   \n",
       "4  11.924055  52.980548 -15.112960  84.887040  72.905882  7.688689e+06   \n",
       "\n",
       "   Direction  30DayReturn  \n",
       "0         Up     0.130318  \n",
       "1         Up     0.110651  \n",
       "2         Up     0.098560  \n",
       "3         Up     0.084033  \n",
       "4         Up     0.088573  \n",
       "\n",
       "[5 rows x 23 columns]"
      ]
     },
     "execution_count": 30,
     "metadata": {},
     "output_type": "execute_result"
    }
   ],
   "source": [
    "# monthly = pd.read_csv(\"monthly-data.csv\")\n",
    "monthly2 = pd.read_csv(\"monthly-data2.csv\")\n",
    "monthly2.dropna(inplace=True)\n",
    "monthly2.head()"
   ]
  },
  {
   "cell_type": "code",
   "execution_count": 12,
   "id": "2581f825-4bce-4b6f-b08e-f61131806991",
   "metadata": {},
   "outputs": [],
   "source": [
    "monthly = monthly.dropna()"
   ]
  },
  {
   "cell_type": "code",
   "execution_count": 31,
   "id": "9dd9e069-a171-426d-ac74-32141fb6a865",
   "metadata": {},
   "outputs": [],
   "source": [
    "# X = monthly.loc[:, \"SMA\":\"STOCHFD\"]\n",
    "X2 = monthly2.loc[:, \"SMA\":\"ChaikinAD\"]\n",
    "# y = monthly[\"Direction\"]\n",
    "y2 = monthly2[\"Direction\"]\n",
    "train_x, test_x, train_y, test_y = train_test_split(X2, y2, random_state=1)"
   ]
  },
  {
   "cell_type": "code",
   "execution_count": 33,
   "id": "ce897173-134c-44bf-9f9e-e714787cb45f",
   "metadata": {},
   "outputs": [
    {
     "data": {
      "text/plain": [
       "213546"
      ]
     },
     "execution_count": 33,
     "metadata": {},
     "output_type": "execute_result"
    }
   ],
   "source": [
    "len(train_x)"
   ]
  },
  {
   "cell_type": "code",
   "execution_count": 24,
   "id": "1201f64c-7881-498f-9e37-0b8d255b67c2",
   "metadata": {},
   "outputs": [],
   "source": [
    "# smote_train_x, smote_train_y = SMOTE(sampling_strategy=\"auto\", random_state=1, k_neighbors=10).fit_resample(X=train_x, y=train_y)"
   ]
  },
  {
   "cell_type": "code",
   "execution_count": 34,
   "id": "123dbe74-799b-41d1-a83e-0a5352696729",
   "metadata": {},
   "outputs": [
    {
     "data": {
      "text/plain": [
       "Up      130486\n",
       "Down     83060\n",
       "Name: Direction, dtype: int64"
      ]
     },
     "execution_count": 34,
     "metadata": {},
     "output_type": "execute_result"
    }
   ],
   "source": [
    "train_y.value_counts()"
   ]
  },
  {
   "cell_type": "code",
   "execution_count": 26,
   "id": "3e6486ea-4cab-4946-96f6-63becc5e97e6",
   "metadata": {},
   "outputs": [],
   "source": [
    "# smote_train_y.value_counts()"
   ]
  },
  {
   "cell_type": "code",
   "execution_count": 35,
   "id": "00cb1a6a-8470-40fe-8a0c-3c04a0712af4",
   "metadata": {
    "tags": []
   },
   "outputs": [],
   "source": [
    "rf = RandomForestClassifier(n_estimators=1000, max_features=\"sqrt\", random_state=1, warm_start=True, oob_score=True)\n",
    "rf.fit(train_x, train_y)\n",
    "rf_preds = rf.predict(test_x)"
   ]
  },
  {
   "cell_type": "code",
   "execution_count": 36,
   "id": "88ded9ce-3014-42db-b290-c21715a072c1",
   "metadata": {},
   "outputs": [
    {
     "name": "stdout",
     "output_type": "stream",
     "text": [
      "              precision    recall  f1-score   support\n",
      "\n",
      "        Down       0.89      0.69      0.78     27627\n",
      "          Up       0.83      0.95      0.89     43555\n",
      "\n",
      "    accuracy                           0.85     71182\n",
      "   macro avg       0.86      0.82      0.83     71182\n",
      "weighted avg       0.85      0.85      0.85     71182\n",
      "\n"
     ]
    }
   ],
   "source": [
    "print(classification_report(y_true=test_y, y_pred=rf_preds))"
   ]
  },
  {
   "cell_type": "code",
   "execution_count": 37,
   "id": "aa7b1705-4913-4ba9-86f2-274d1cb8c65b",
   "metadata": {},
   "outputs": [
    {
     "data": {
      "text/plain": [
       "0.8494984687140007"
      ]
     },
     "execution_count": 37,
     "metadata": {},
     "output_type": "execute_result"
    }
   ],
   "source": [
    "accuracy_score(y_true=test_y, y_pred=rf_preds)"
   ]
  },
  {
   "cell_type": "code",
   "execution_count": 38,
   "id": "bc4487bc-2aa9-4d16-a8a2-f24e1994875b",
   "metadata": {},
   "outputs": [
    {
     "data": {
      "text/plain": [
       "<sklearn.metrics._plot.confusion_matrix.ConfusionMatrixDisplay at 0x1ad97fcadf0>"
      ]
     },
     "execution_count": 38,
     "metadata": {},
     "output_type": "execute_result"
    },
    {
     "data": {
      "image/png": "[encoded data removed]",
      "text/plain": [
       "<Figure size 432x288 with 2 Axes>"
      ]
     },
     "metadata": {
      "needs_background": "light"
     },
     "output_type": "display_data"
    }
   ],
   "source": [
    "plot_confusion_matrix(estimator=rf, X=test_x, y_true=test_y)"
   ]
  },
  {
   "cell_type": "code",
   "execution_count": 39,
   "id": "fabdaef0-951a-413b-b365-c1490beaacee",
   "metadata": {},
   "outputs": [
    {
     "data": {
      "text/plain": [
       "<sklearn.metrics._plot.roc_curve.RocCurveDisplay at 0x1ad987a3610>"
      ]
     },
     "execution_count": 39,
     "metadata": {},
     "output_type": "execute_result"
    },
    {
     "data": {
      "image/png": "[encoded data removed]",
      "text/plain": [
       "<Figure size 432x288 with 1 Axes>"
      ]
     },
     "metadata": {
      "needs_background": "light"
     },
     "output_type": "display_data"
    }
   ],
   "source": [
    "plot_roc_curve(estimator=rf, X=test_x, y=test_y)"
   ]
  },
  {
   "cell_type": "markdown",
   "id": "113a996c-8e38-4c3e-a67a-1008521546e5",
   "metadata": {},
   "source": [
    "| Model | Params | Data | Acc. | Recall \"Up\" | Recall \"Down\" | Prec. \"Up\" | Prec. \"Down\" | F1 \"Up\" | F1 \"Down\" | AUC |\n",
    "| ----- | ------ | -----| ---- | ----------- | ------------- | ---------- | ------------ | ------- | --------- | --- |\n",
    "| RF | trees=1000; m=\"sqrt\"; oob score | Regular data | 0.77 | 0.93 | 0.48 | 0.76 | 0.80 | 0.84 | 0.60 | 0.84 |\n",
    "| RF | trees=1000; m=\"sqrt\"; oob score | SMOTE training data | 0.75 | 0.80 | 0.71 | 0.83 | 0.67 | 0.81 | 0.69 | 0.83 |\n",
    "| RF | trees=1000; m=\"sqrt\"; oob score | Added WMA, TEMA, and Chaikin AD | 0.85 | 0.95 | 0.69 | 0.83 | 0.89 | 0.89 | 0.78 | 0.93 |"
   ]
  },
  {
   "cell_type": "code",
   "execution_count": 48,
   "id": "ce44624c-7a55-45ae-8c06-7b1166400b0a",
   "metadata": {},
   "outputs": [
    {
     "data": {
      "text/plain": [
       "['random-forest.sav']"
      ]
     },
     "execution_count": 48,
     "metadata": {},
     "output_type": "execute_result"
    }
   ],
   "source": [
    "joblib.dump(rf, \"random-forest.sav\")"
   ]
  },
  {
   "cell_type": "code",
   "execution_count": null,
   "id": "61e6eed4-1f29-4f75-8093-6a877e020385",
   "metadata": {},
   "outputs": [],
   "source": [
    "# rf = joblib.load(\"random-forest.sav\")"
   ]
  },
  {
   "cell_type": "code",
   "execution_count": 41,
   "id": "85ffad30-a912-497e-aca2-39a6ed6791d9",
   "metadata": {},
   "outputs": [
    {
     "data": {
      "text/plain": [
       "Index(['Date', 'Open', 'High', 'Low', 'Close', 'Volume', 'Dividends',\n",
       "       'Stock Splits', 'Ticker', 'SMA', 'EMA', 'WMA', 'TEMA', 'ADMI', 'CCI',\n",
       "       'ROC', 'RSI', 'Williams', 'STOCHFK', 'STOCHFD', 'ChaikinAD',\n",
       "       'Direction', '30DayReturn'],\n",
       "      dtype='object')"
      ]
     },
     "execution_count": 41,
     "metadata": {},
     "output_type": "execute_result"
    }
   ],
   "source": [
    "monthly2.columns"
   ]
  },
  {
   "cell_type": "code",
   "execution_count": 45,
   "id": "ae17fb5a-f5bc-4514-b976-da6ce61db1ec",
   "metadata": {},
   "outputs": [],
   "source": [
    "features = np.array(monthly2.columns[9:21])\n",
    "importances = rf.feature_importances_"
   ]
  },
  {
   "cell_type": "code",
   "execution_count": 46,
   "id": "fb267e60-5553-40c4-9d84-143267635341",
   "metadata": {},
   "outputs": [
    {
     "name": "stdout",
     "output_type": "stream",
     "text": [
      "['SMA' 'EMA' 'WMA' 'TEMA' 'ADMI' 'CCI' 'ROC' 'RSI' 'Williams' 'STOCHFK'\n",
      " 'STOCHFD' 'ChaikinAD']\n"
     ]
    }
   ],
   "source": [
    "print(features)"
   ]
  },
  {
   "cell_type": "code",
   "execution_count": 47,
   "id": "8bf476c3-a046-489b-a5f0-7fc48e5f4a93",
   "metadata": {},
   "outputs": [
    {
     "data": {
      "text/plain": [
       "Text(0, 0.5, 'Variable')"
      ]
     },
     "execution_count": 47,
     "metadata": {},
     "output_type": "execute_result"
    },
    {
     "data": {
      "image/png": "[encoded data removed]",
      "text/plain": [
       "<Figure size 432x288 with 1 Axes>"
      ]
     },
     "metadata": {
      "needs_background": "light"
     },
     "output_type": "display_data"
    }
   ],
   "source": [
    "plt.barh(features, importances)\n",
    "plt.title(\"Variable Importances\")\n",
    "plt.xlabel(\"Relative Importance\")\n",
    "plt.ylabel(\"Variable\")"
   ]
  },
  {
   "cell_type": "markdown",
   "id": "b0747b20-9496-4ddf-843f-2dac3760d4d1",
   "metadata": {},
   "source": [
    "## Back Testing"
   ]
  },
  {
   "cell_type": "code",
   "execution_count": null,
   "id": "9c067574-bd59-4a6e-9cf5-107c0635463d",
   "metadata": {},
   "outputs": [],
   "source": []
  }
 ],
 "metadata": {
  "kernelspec": {
   "display_name": "Python 3",
   "language": "python",
   "name": "python3"
  },
  "language_info": {
   "codemirror_mode": {
    "name": "ipython",
    "version": 3
   },
   "file_extension": ".py",
   "mimetype": "text/x-python",
   "name": "python",
   "nbconvert_exporter": "python",
   "pygments_lexer": "ipython3",
   "version": "3.8.5"
  }
 },
 "nbformat": 4,
 "nbformat_minor": 5
}
